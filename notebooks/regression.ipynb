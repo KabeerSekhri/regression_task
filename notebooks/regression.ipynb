{
  "nbformat": 4,
  "nbformat_minor": 0,
  "metadata": {
    "colab": {
      "provenance": []
    },
    "kernelspec": {
      "name": "python3",
      "display_name": "Python 3"
    },
    "language_info": {
      "name": "python"
    }
  },
  "cells": [
    {
      "cell_type": "code",
      "execution_count": 3,
      "metadata": {
        "id": "vlCkJAuadlTa"
      },
      "outputs": [],
      "source": [
        "import numpy as np\n",
        "import pandas as pd\n",
        "from google.colab import drive"
      ]
    },
    {
      "cell_type": "code",
      "source": [
        "drive.mount('/content/gdrive')"
      ],
      "metadata": {
        "colab": {
          "base_uri": "https://localhost:8080/"
        },
        "id": "RKjR_aqR2sQh",
        "outputId": "748e3f6a-bc12-4ef4-ad7b-6cbc88793747"
      },
      "execution_count": 4,
      "outputs": [
        {
          "output_type": "stream",
          "name": "stdout",
          "text": [
            "Mounted at /content/gdrive\n"
          ]
        }
      ]
    },
    {
      "cell_type": "code",
      "source": [
        "dataset = pd.read_csv(\"/content/gdrive/MyDrive/fuel_train.csv\")\n",
        "dataset = pd.DataFrame(dataset)\n",
        "dataset"
      ],
      "metadata": {
        "colab": {
          "base_uri": "https://localhost:8080/",
          "height": 423
        },
        "id": "SDBeeH7EfOVn",
        "outputId": "3e9e914f-d50a-4785-de84-5fdcb587083e"
      },
      "execution_count": null,
      "outputs": [
        {
          "output_type": "execute_result",
          "data": {
            "text/plain": [
              "     Year           MAKE                      MODEL            VEHICLE CLASS  \\\n",
              "0    2000     VOLKSWAGEN                        GTI                  COMPACT   \n",
              "1    2000          DODGE                 DAKOTA 4X4  PICKUP TRUCK - STANDARD   \n",
              "2    2000            GMC               C1500 SIERRA  PICKUP TRUCK - STANDARD   \n",
              "3    2000           FORD                   F150 4X4  PICKUP TRUCK - STANDARD   \n",
              "4    2000           FORD                   F150 4X4  PICKUP TRUCK - STANDARD   \n",
              "..    ...            ...                        ...                      ...   \n",
              "506  2000      CHEVROLET            ASTRO AWD CARGO              VAN - CARGO   \n",
              "507  2000      CHEVROLET        K1500 SILVERADO 4X4  PICKUP TRUCK - STANDARD   \n",
              "508  2000           FORD                     TAURUS                 MID-SIZE   \n",
              "509  2000  MERCEDES-BENZ       SLK 230 KOMPRESSOR #               SUBCOMPACT   \n",
              "510  2000      CHEVROLET  G1500/G2500 CHEVY EXPRESS          VAN - PASSENGER   \n",
              "\n",
              "     ENGINE SIZE  CYLINDERS TRANSMISSION FUEL  FUEL CONSUMPTION  COEMISSIONS   \n",
              "0            2.0          4           M5    X              11.2           228  \n",
              "1            4.7          8           M5    X              18.8           382  \n",
              "2            4.8          8           M5    X              18.9           373  \n",
              "3            4.6          8           A4    X              18.5           380  \n",
              "4            4.2          6           A4    X              17.3           359  \n",
              "..           ...        ...          ...  ...               ...           ...  \n",
              "506          4.3          6           A4    X              17.0           350  \n",
              "507          4.3          6           M5    X              18.7           386  \n",
              "508          3.0          6           A4    X              13.6           267  \n",
              "509          2.3          4           M5    Z              12.6           246  \n",
              "510          5.7          8           A4    X              20.6           426  \n",
              "\n",
              "[511 rows x 10 columns]"
            ],
            "text/html": [
              "\n",
              "  <div id=\"df-bc69bcaa-e372-4a08-a840-bb7fc659f22c\" class=\"colab-df-container\">\n",
              "    <div>\n",
              "<style scoped>\n",
              "    .dataframe tbody tr th:only-of-type {\n",
              "        vertical-align: middle;\n",
              "    }\n",
              "\n",
              "    .dataframe tbody tr th {\n",
              "        vertical-align: top;\n",
              "    }\n",
              "\n",
              "    .dataframe thead th {\n",
              "        text-align: right;\n",
              "    }\n",
              "</style>\n",
              "<table border=\"1\" class=\"dataframe\">\n",
              "  <thead>\n",
              "    <tr style=\"text-align: right;\">\n",
              "      <th></th>\n",
              "      <th>Year</th>\n",
              "      <th>MAKE</th>\n",
              "      <th>MODEL</th>\n",
              "      <th>VEHICLE CLASS</th>\n",
              "      <th>ENGINE SIZE</th>\n",
              "      <th>CYLINDERS</th>\n",
              "      <th>TRANSMISSION</th>\n",
              "      <th>FUEL</th>\n",
              "      <th>FUEL CONSUMPTION</th>\n",
              "      <th>COEMISSIONS</th>\n",
              "    </tr>\n",
              "  </thead>\n",
              "  <tbody>\n",
              "    <tr>\n",
              "      <th>0</th>\n",
              "      <td>2000</td>\n",
              "      <td>VOLKSWAGEN</td>\n",
              "      <td>GTI</td>\n",
              "      <td>COMPACT</td>\n",
              "      <td>2.0</td>\n",
              "      <td>4</td>\n",
              "      <td>M5</td>\n",
              "      <td>X</td>\n",
              "      <td>11.2</td>\n",
              "      <td>228</td>\n",
              "    </tr>\n",
              "    <tr>\n",
              "      <th>1</th>\n",
              "      <td>2000</td>\n",
              "      <td>DODGE</td>\n",
              "      <td>DAKOTA 4X4</td>\n",
              "      <td>PICKUP TRUCK - STANDARD</td>\n",
              "      <td>4.7</td>\n",
              "      <td>8</td>\n",
              "      <td>M5</td>\n",
              "      <td>X</td>\n",
              "      <td>18.8</td>\n",
              "      <td>382</td>\n",
              "    </tr>\n",
              "    <tr>\n",
              "      <th>2</th>\n",
              "      <td>2000</td>\n",
              "      <td>GMC</td>\n",
              "      <td>C1500 SIERRA</td>\n",
              "      <td>PICKUP TRUCK - STANDARD</td>\n",
              "      <td>4.8</td>\n",
              "      <td>8</td>\n",
              "      <td>M5</td>\n",
              "      <td>X</td>\n",
              "      <td>18.9</td>\n",
              "      <td>373</td>\n",
              "    </tr>\n",
              "    <tr>\n",
              "      <th>3</th>\n",
              "      <td>2000</td>\n",
              "      <td>FORD</td>\n",
              "      <td>F150 4X4</td>\n",
              "      <td>PICKUP TRUCK - STANDARD</td>\n",
              "      <td>4.6</td>\n",
              "      <td>8</td>\n",
              "      <td>A4</td>\n",
              "      <td>X</td>\n",
              "      <td>18.5</td>\n",
              "      <td>380</td>\n",
              "    </tr>\n",
              "    <tr>\n",
              "      <th>4</th>\n",
              "      <td>2000</td>\n",
              "      <td>FORD</td>\n",
              "      <td>F150 4X4</td>\n",
              "      <td>PICKUP TRUCK - STANDARD</td>\n",
              "      <td>4.2</td>\n",
              "      <td>6</td>\n",
              "      <td>A4</td>\n",
              "      <td>X</td>\n",
              "      <td>17.3</td>\n",
              "      <td>359</td>\n",
              "    </tr>\n",
              "    <tr>\n",
              "      <th>...</th>\n",
              "      <td>...</td>\n",
              "      <td>...</td>\n",
              "      <td>...</td>\n",
              "      <td>...</td>\n",
              "      <td>...</td>\n",
              "      <td>...</td>\n",
              "      <td>...</td>\n",
              "      <td>...</td>\n",
              "      <td>...</td>\n",
              "      <td>...</td>\n",
              "    </tr>\n",
              "    <tr>\n",
              "      <th>506</th>\n",
              "      <td>2000</td>\n",
              "      <td>CHEVROLET</td>\n",
              "      <td>ASTRO AWD CARGO</td>\n",
              "      <td>VAN - CARGO</td>\n",
              "      <td>4.3</td>\n",
              "      <td>6</td>\n",
              "      <td>A4</td>\n",
              "      <td>X</td>\n",
              "      <td>17.0</td>\n",
              "      <td>350</td>\n",
              "    </tr>\n",
              "    <tr>\n",
              "      <th>507</th>\n",
              "      <td>2000</td>\n",
              "      <td>CHEVROLET</td>\n",
              "      <td>K1500 SILVERADO 4X4</td>\n",
              "      <td>PICKUP TRUCK - STANDARD</td>\n",
              "      <td>4.3</td>\n",
              "      <td>6</td>\n",
              "      <td>M5</td>\n",
              "      <td>X</td>\n",
              "      <td>18.7</td>\n",
              "      <td>386</td>\n",
              "    </tr>\n",
              "    <tr>\n",
              "      <th>508</th>\n",
              "      <td>2000</td>\n",
              "      <td>FORD</td>\n",
              "      <td>TAURUS</td>\n",
              "      <td>MID-SIZE</td>\n",
              "      <td>3.0</td>\n",
              "      <td>6</td>\n",
              "      <td>A4</td>\n",
              "      <td>X</td>\n",
              "      <td>13.6</td>\n",
              "      <td>267</td>\n",
              "    </tr>\n",
              "    <tr>\n",
              "      <th>509</th>\n",
              "      <td>2000</td>\n",
              "      <td>MERCEDES-BENZ</td>\n",
              "      <td>SLK 230 KOMPRESSOR #</td>\n",
              "      <td>SUBCOMPACT</td>\n",
              "      <td>2.3</td>\n",
              "      <td>4</td>\n",
              "      <td>M5</td>\n",
              "      <td>Z</td>\n",
              "      <td>12.6</td>\n",
              "      <td>246</td>\n",
              "    </tr>\n",
              "    <tr>\n",
              "      <th>510</th>\n",
              "      <td>2000</td>\n",
              "      <td>CHEVROLET</td>\n",
              "      <td>G1500/G2500 CHEVY EXPRESS</td>\n",
              "      <td>VAN - PASSENGER</td>\n",
              "      <td>5.7</td>\n",
              "      <td>8</td>\n",
              "      <td>A4</td>\n",
              "      <td>X</td>\n",
              "      <td>20.6</td>\n",
              "      <td>426</td>\n",
              "    </tr>\n",
              "  </tbody>\n",
              "</table>\n",
              "<p>511 rows × 10 columns</p>\n",
              "</div>\n",
              "    <div class=\"colab-df-buttons\">\n",
              "\n",
              "  <div class=\"colab-df-container\">\n",
              "    <button class=\"colab-df-convert\" onclick=\"convertToInteractive('df-bc69bcaa-e372-4a08-a840-bb7fc659f22c')\"\n",
              "            title=\"Convert this dataframe to an interactive table.\"\n",
              "            style=\"display:none;\">\n",
              "\n",
              "  <svg xmlns=\"http://www.w3.org/2000/svg\" height=\"24px\" viewBox=\"0 -960 960 960\">\n",
              "    <path d=\"M120-120v-720h720v720H120Zm60-500h600v-160H180v160Zm220 220h160v-160H400v160Zm0 220h160v-160H400v160ZM180-400h160v-160H180v160Zm440 0h160v-160H620v160ZM180-180h160v-160H180v160Zm440 0h160v-160H620v160Z\"/>\n",
              "  </svg>\n",
              "    </button>\n",
              "\n",
              "  <style>\n",
              "    .colab-df-container {\n",
              "      display:flex;\n",
              "      gap: 12px;\n",
              "    }\n",
              "\n",
              "    .colab-df-convert {\n",
              "      background-color: #E8F0FE;\n",
              "      border: none;\n",
              "      border-radius: 50%;\n",
              "      cursor: pointer;\n",
              "      display: none;\n",
              "      fill: #1967D2;\n",
              "      height: 32px;\n",
              "      padding: 0 0 0 0;\n",
              "      width: 32px;\n",
              "    }\n",
              "\n",
              "    .colab-df-convert:hover {\n",
              "      background-color: #E2EBFA;\n",
              "      box-shadow: 0px 1px 2px rgba(60, 64, 67, 0.3), 0px 1px 3px 1px rgba(60, 64, 67, 0.15);\n",
              "      fill: #174EA6;\n",
              "    }\n",
              "\n",
              "    .colab-df-buttons div {\n",
              "      margin-bottom: 4px;\n",
              "    }\n",
              "\n",
              "    [theme=dark] .colab-df-convert {\n",
              "      background-color: #3B4455;\n",
              "      fill: #D2E3FC;\n",
              "    }\n",
              "\n",
              "    [theme=dark] .colab-df-convert:hover {\n",
              "      background-color: #434B5C;\n",
              "      box-shadow: 0px 1px 3px 1px rgba(0, 0, 0, 0.15);\n",
              "      filter: drop-shadow(0px 1px 2px rgba(0, 0, 0, 0.3));\n",
              "      fill: #FFFFFF;\n",
              "    }\n",
              "  </style>\n",
              "\n",
              "    <script>\n",
              "      const buttonEl =\n",
              "        document.querySelector('#df-bc69bcaa-e372-4a08-a840-bb7fc659f22c button.colab-df-convert');\n",
              "      buttonEl.style.display =\n",
              "        google.colab.kernel.accessAllowed ? 'block' : 'none';\n",
              "\n",
              "      async function convertToInteractive(key) {\n",
              "        const element = document.querySelector('#df-bc69bcaa-e372-4a08-a840-bb7fc659f22c');\n",
              "        const dataTable =\n",
              "          await google.colab.kernel.invokeFunction('convertToInteractive',\n",
              "                                                    [key], {});\n",
              "        if (!dataTable) return;\n",
              "\n",
              "        const docLinkHtml = 'Like what you see? Visit the ' +\n",
              "          '<a target=\"_blank\" href=https://colab.research.google.com/notebooks/data_table.ipynb>data table notebook</a>'\n",
              "          + ' to learn more about interactive tables.';\n",
              "        element.innerHTML = '';\n",
              "        dataTable['output_type'] = 'display_data';\n",
              "        await google.colab.output.renderOutput(dataTable, element);\n",
              "        const docLink = document.createElement('div');\n",
              "        docLink.innerHTML = docLinkHtml;\n",
              "        element.appendChild(docLink);\n",
              "      }\n",
              "    </script>\n",
              "  </div>\n",
              "\n",
              "\n",
              "<div id=\"df-656a7f09-f172-4051-b7d8-e73bdb832838\">\n",
              "  <button class=\"colab-df-quickchart\" onclick=\"quickchart('df-656a7f09-f172-4051-b7d8-e73bdb832838')\"\n",
              "            title=\"Suggest charts\"\n",
              "            style=\"display:none;\">\n",
              "\n",
              "<svg xmlns=\"http://www.w3.org/2000/svg\" height=\"24px\"viewBox=\"0 0 24 24\"\n",
              "     width=\"24px\">\n",
              "    <g>\n",
              "        <path d=\"M19 3H5c-1.1 0-2 .9-2 2v14c0 1.1.9 2 2 2h14c1.1 0 2-.9 2-2V5c0-1.1-.9-2-2-2zM9 17H7v-7h2v7zm4 0h-2V7h2v10zm4 0h-2v-4h2v4z\"/>\n",
              "    </g>\n",
              "</svg>\n",
              "  </button>\n",
              "\n",
              "<style>\n",
              "  .colab-df-quickchart {\n",
              "      --bg-color: #E8F0FE;\n",
              "      --fill-color: #1967D2;\n",
              "      --hover-bg-color: #E2EBFA;\n",
              "      --hover-fill-color: #174EA6;\n",
              "      --disabled-fill-color: #AAA;\n",
              "      --disabled-bg-color: #DDD;\n",
              "  }\n",
              "\n",
              "  [theme=dark] .colab-df-quickchart {\n",
              "      --bg-color: #3B4455;\n",
              "      --fill-color: #D2E3FC;\n",
              "      --hover-bg-color: #434B5C;\n",
              "      --hover-fill-color: #FFFFFF;\n",
              "      --disabled-bg-color: #3B4455;\n",
              "      --disabled-fill-color: #666;\n",
              "  }\n",
              "\n",
              "  .colab-df-quickchart {\n",
              "    background-color: var(--bg-color);\n",
              "    border: none;\n",
              "    border-radius: 50%;\n",
              "    cursor: pointer;\n",
              "    display: none;\n",
              "    fill: var(--fill-color);\n",
              "    height: 32px;\n",
              "    padding: 0;\n",
              "    width: 32px;\n",
              "  }\n",
              "\n",
              "  .colab-df-quickchart:hover {\n",
              "    background-color: var(--hover-bg-color);\n",
              "    box-shadow: 0 1px 2px rgba(60, 64, 67, 0.3), 0 1px 3px 1px rgba(60, 64, 67, 0.15);\n",
              "    fill: var(--button-hover-fill-color);\n",
              "  }\n",
              "\n",
              "  .colab-df-quickchart-complete:disabled,\n",
              "  .colab-df-quickchart-complete:disabled:hover {\n",
              "    background-color: var(--disabled-bg-color);\n",
              "    fill: var(--disabled-fill-color);\n",
              "    box-shadow: none;\n",
              "  }\n",
              "\n",
              "  .colab-df-spinner {\n",
              "    border: 2px solid var(--fill-color);\n",
              "    border-color: transparent;\n",
              "    border-bottom-color: var(--fill-color);\n",
              "    animation:\n",
              "      spin 1s steps(1) infinite;\n",
              "  }\n",
              "\n",
              "  @keyframes spin {\n",
              "    0% {\n",
              "      border-color: transparent;\n",
              "      border-bottom-color: var(--fill-color);\n",
              "      border-left-color: var(--fill-color);\n",
              "    }\n",
              "    20% {\n",
              "      border-color: transparent;\n",
              "      border-left-color: var(--fill-color);\n",
              "      border-top-color: var(--fill-color);\n",
              "    }\n",
              "    30% {\n",
              "      border-color: transparent;\n",
              "      border-left-color: var(--fill-color);\n",
              "      border-top-color: var(--fill-color);\n",
              "      border-right-color: var(--fill-color);\n",
              "    }\n",
              "    40% {\n",
              "      border-color: transparent;\n",
              "      border-right-color: var(--fill-color);\n",
              "      border-top-color: var(--fill-color);\n",
              "    }\n",
              "    60% {\n",
              "      border-color: transparent;\n",
              "      border-right-color: var(--fill-color);\n",
              "    }\n",
              "    80% {\n",
              "      border-color: transparent;\n",
              "      border-right-color: var(--fill-color);\n",
              "      border-bottom-color: var(--fill-color);\n",
              "    }\n",
              "    90% {\n",
              "      border-color: transparent;\n",
              "      border-bottom-color: var(--fill-color);\n",
              "    }\n",
              "  }\n",
              "</style>\n",
              "\n",
              "  <script>\n",
              "    async function quickchart(key) {\n",
              "      const quickchartButtonEl =\n",
              "        document.querySelector('#' + key + ' button');\n",
              "      quickchartButtonEl.disabled = true;  // To prevent multiple clicks.\n",
              "      quickchartButtonEl.classList.add('colab-df-spinner');\n",
              "      try {\n",
              "        const charts = await google.colab.kernel.invokeFunction(\n",
              "            'suggestCharts', [key], {});\n",
              "      } catch (error) {\n",
              "        console.error('Error during call to suggestCharts:', error);\n",
              "      }\n",
              "      quickchartButtonEl.classList.remove('colab-df-spinner');\n",
              "      quickchartButtonEl.classList.add('colab-df-quickchart-complete');\n",
              "    }\n",
              "    (() => {\n",
              "      let quickchartButtonEl =\n",
              "        document.querySelector('#df-656a7f09-f172-4051-b7d8-e73bdb832838 button');\n",
              "      quickchartButtonEl.style.display =\n",
              "        google.colab.kernel.accessAllowed ? 'block' : 'none';\n",
              "    })();\n",
              "  </script>\n",
              "</div>\n",
              "\n",
              "  <div id=\"id_1f854c1f-cc2b-4b83-93cc-2583a781222e\">\n",
              "    <style>\n",
              "      .colab-df-generate {\n",
              "        background-color: #E8F0FE;\n",
              "        border: none;\n",
              "        border-radius: 50%;\n",
              "        cursor: pointer;\n",
              "        display: none;\n",
              "        fill: #1967D2;\n",
              "        height: 32px;\n",
              "        padding: 0 0 0 0;\n",
              "        width: 32px;\n",
              "      }\n",
              "\n",
              "      .colab-df-generate:hover {\n",
              "        background-color: #E2EBFA;\n",
              "        box-shadow: 0px 1px 2px rgba(60, 64, 67, 0.3), 0px 1px 3px 1px rgba(60, 64, 67, 0.15);\n",
              "        fill: #174EA6;\n",
              "      }\n",
              "\n",
              "      [theme=dark] .colab-df-generate {\n",
              "        background-color: #3B4455;\n",
              "        fill: #D2E3FC;\n",
              "      }\n",
              "\n",
              "      [theme=dark] .colab-df-generate:hover {\n",
              "        background-color: #434B5C;\n",
              "        box-shadow: 0px 1px 3px 1px rgba(0, 0, 0, 0.15);\n",
              "        filter: drop-shadow(0px 1px 2px rgba(0, 0, 0, 0.3));\n",
              "        fill: #FFFFFF;\n",
              "      }\n",
              "    </style>\n",
              "    <button class=\"colab-df-generate\" onclick=\"generateWithVariable('dataset')\"\n",
              "            title=\"Generate code using this dataframe.\"\n",
              "            style=\"display:none;\">\n",
              "\n",
              "  <svg xmlns=\"http://www.w3.org/2000/svg\" height=\"24px\"viewBox=\"0 0 24 24\"\n",
              "       width=\"24px\">\n",
              "    <path d=\"M7,19H8.4L18.45,9,17,7.55,7,17.6ZM5,21V16.75L18.45,3.32a2,2,0,0,1,2.83,0l1.4,1.43a1.91,1.91,0,0,1,.58,1.4,1.91,1.91,0,0,1-.58,1.4L9.25,21ZM18.45,9,17,7.55Zm-12,3A5.31,5.31,0,0,0,4.9,8.1,5.31,5.31,0,0,0,1,6.5,5.31,5.31,0,0,0,4.9,4.9,5.31,5.31,0,0,0,6.5,1,5.31,5.31,0,0,0,8.1,4.9,5.31,5.31,0,0,0,12,6.5,5.46,5.46,0,0,0,6.5,12Z\"/>\n",
              "  </svg>\n",
              "    </button>\n",
              "    <script>\n",
              "      (() => {\n",
              "      const buttonEl =\n",
              "        document.querySelector('#id_1f854c1f-cc2b-4b83-93cc-2583a781222e button.colab-df-generate');\n",
              "      buttonEl.style.display =\n",
              "        google.colab.kernel.accessAllowed ? 'block' : 'none';\n",
              "\n",
              "      buttonEl.onclick = () => {\n",
              "        google.colab.notebook.generateWithVariable('dataset');\n",
              "      }\n",
              "      })();\n",
              "    </script>\n",
              "  </div>\n",
              "\n",
              "    </div>\n",
              "  </div>\n"
            ],
            "application/vnd.google.colaboratory.intrinsic+json": {
              "type": "dataframe",
              "variable_name": "dataset",
              "summary": "{\n  \"name\": \"dataset\",\n  \"rows\": 511,\n  \"fields\": [\n    {\n      \"column\": \"Year\",\n      \"properties\": {\n        \"dtype\": \"number\",\n        \"std\": 0,\n        \"min\": 2000,\n        \"max\": 2000,\n        \"num_unique_values\": 1,\n        \"samples\": [\n          2000\n        ],\n        \"semantic_type\": \"\",\n        \"description\": \"\"\n      }\n    },\n    {\n      \"column\": \"MAKE\",\n      \"properties\": {\n        \"dtype\": \"category\",\n        \"num_unique_values\": 36,\n        \"samples\": [\n          \"PLYMOUTH\"\n        ],\n        \"semantic_type\": \"\",\n        \"description\": \"\"\n      }\n    },\n    {\n      \"column\": \"MODEL\",\n      \"properties\": {\n        \"dtype\": \"string\",\n        \"num_unique_values\": 292,\n        \"samples\": [\n          \"1.6EL\"\n        ],\n        \"semantic_type\": \"\",\n        \"description\": \"\"\n      }\n    },\n    {\n      \"column\": \"VEHICLE CLASS\",\n      \"properties\": {\n        \"dtype\": \"category\",\n        \"num_unique_values\": 14,\n        \"samples\": [\n          \"MINIVAN\"\n        ],\n        \"semantic_type\": \"\",\n        \"description\": \"\"\n      }\n    },\n    {\n      \"column\": \"ENGINE SIZE\",\n      \"properties\": {\n        \"dtype\": \"number\",\n        \"std\": 1.1944129558899015,\n        \"min\": 1.0,\n        \"max\": 8.0,\n        \"num_unique_values\": 40,\n        \"samples\": [\n          2.7\n        ],\n        \"semantic_type\": \"\",\n        \"description\": \"\"\n      }\n    },\n    {\n      \"column\": \"CYLINDERS\",\n      \"properties\": {\n        \"dtype\": \"number\",\n        \"std\": 1,\n        \"min\": 3,\n        \"max\": 12,\n        \"num_unique_values\": 7,\n        \"samples\": [\n          4\n        ],\n        \"semantic_type\": \"\",\n        \"description\": \"\"\n      }\n    },\n    {\n      \"column\": \"TRANSMISSION\",\n      \"properties\": {\n        \"dtype\": \"category\",\n        \"num_unique_values\": 7,\n        \"samples\": [\n          \"M5\"\n        ],\n        \"semantic_type\": \"\",\n        \"description\": \"\"\n      }\n    },\n    {\n      \"column\": \"FUEL\",\n      \"properties\": {\n        \"dtype\": \"category\",\n        \"num_unique_values\": 5,\n        \"samples\": [\n          \"Z\"\n        ],\n        \"semantic_type\": \"\",\n        \"description\": \"\"\n      }\n    },\n    {\n      \"column\": \"FUEL CONSUMPTION\",\n      \"properties\": {\n        \"dtype\": \"number\",\n        \"std\": 3.164069340493477,\n        \"min\": 4.9,\n        \"max\": 26.3,\n        \"num_unique_values\": 116,\n        \"samples\": [\n          9.1\n        ],\n        \"semantic_type\": \"\",\n        \"description\": \"\"\n      }\n    },\n    {\n      \"column\": \"COEMISSIONS \",\n      \"properties\": {\n        \"dtype\": \"number\",\n        \"std\": 63,\n        \"min\": 104,\n        \"max\": 495,\n        \"num_unique_values\": 113,\n        \"samples\": [\n          205\n        ],\n        \"semantic_type\": \"\",\n        \"description\": \"\"\n      }\n    }\n  ]\n}"
            }
          },
          "metadata": {},
          "execution_count": 8
        }
      ]
    },
    {
      "cell_type": "code",
      "source": [
        "dataset.columns = dataset.columns.str.strip()  # Removes leading and trailing spaces\n",
        "dataset.isnull().sum() # Check for missing values\n",
        "dataset.duplicated().sum() # Check for duplicate values\n"
      ],
      "metadata": {
        "colab": {
          "base_uri": "https://localhost:8080/"
        },
        "id": "fTk80KHhg-sw",
        "outputId": "be485f70-17fe-4443-9ff2-988deb56fee1"
      },
      "execution_count": null,
      "outputs": [
        {
          "output_type": "execute_result",
          "data": {
            "text/plain": [
              "1"
            ]
          },
          "metadata": {},
          "execution_count": 9
        }
      ]
    },
    {
      "cell_type": "code",
      "source": [
        "dataset.dropna(inplace=True)\n",
        "dataset.drop_duplicates(inplace=True)"
      ],
      "metadata": {
        "id": "HOo9c87Uqe9Y"
      },
      "execution_count": null,
      "outputs": []
    },
    {
      "cell_type": "code",
      "source": [
        "import seaborn as sns\n",
        "import matplotlib.pyplot as plt\n",
        "\n",
        "# Assuming 'dataset' is a DataFrame with relevant columns\n",
        "X = dataset[['ENGINE SIZE', 'CYLINDERS', 'COEMISSIONS']]  # Features\n",
        "Y = dataset['FUEL CONSUMPTION']  # Target\n",
        "\n",
        "# Set the plot style\n",
        "sns.set(style=\"whitegrid\")\n",
        "\n",
        "# Create subplots for each feature vs FUEL CONSUMPTION\n",
        "fig, axs = plt.subplots(1, 3, figsize=(18, 5))\n",
        "\n",
        "# Scatter plot for ENGINE SIZE vs FUEL CONSUMPTION\n",
        "sns.scatterplot(x=X['ENGINE SIZE'], y=Y, ax=axs[0], color='blue')\n",
        "axs[0].set_xlabel('ENGINE SIZE')\n",
        "axs[0].set_ylabel('FUEL CONSUMPTION')\n",
        "axs[0].set_title('ENGINE SIZE vs FUEL CONSUMPTION')\n",
        "\n",
        "# Scatter plot for CYLINDERS vs FUEL CONSUMPTION\n",
        "sns.scatterplot(x=X['CYLINDERS'], y=Y, ax=axs[1], color='green')\n",
        "axs[1].set_xlabel('CYLINDERS')\n",
        "axs[1].set_ylabel('FUEL CONSUMPTION')\n",
        "axs[1].set_title('CYLINDERS vs FUEL CONSUMPTION')\n",
        "\n",
        "# Scatter plot for COEMISSIONS vs FUEL CONSUMPTION\n",
        "sns.scatterplot(x=X['COEMISSIONS'], y=Y, ax=axs[2], color='red')\n",
        "axs[2].set_xlabel('COEMISSIONS')\n",
        "axs[2].set_ylabel('FUEL CONSUMPTION')\n",
        "axs[2].set_title('COEMISSIONS vs FUEL CONSUMPTION')\n",
        "\n",
        "# Adjust layout for better spacing\n",
        "plt.tight_layout()\n",
        "\n",
        "# Show the plot\n",
        "plt.show()\n"
      ],
      "metadata": {
        "colab": {
          "base_uri": "https://localhost:8080/",
          "height": 418
        },
        "id": "WuX7u8h8m4gj",
        "outputId": "20c2dbc4-aa5c-4439-fabc-9e2997ee384c"
      },
      "execution_count": null,
      "outputs": [
        {
          "output_type": "display_data",
          "data": {
            "text/plain": [
              "<Figure size 1800x500 with 3 Axes>"
            ],
            "image/png": "[encoded data removed]"
          },
          "metadata": {}
        }
      ]
    },
    {
      "cell_type": "code",
      "source": [
        "# Split into X and Y\n",
        "X = dataset[['ENGINE SIZE','CYLINDERS','COEMISSIONS']] # Features (independent)\n",
        "Y = dataset['FUEL CONSUMPTION'].values.reshape(-1, 1) # Target (dependent)\n",
        "X = np.c_[np.ones(X.shape[0]), X] # Adding a column of 1s for constant in matrix multiplication\n"
      ],
      "metadata": {
        "id": "dM8QUlOxfO8X"
      },
      "execution_count": null,
      "outputs": []
    },
    {
      "cell_type": "code",
      "source": [
        "# Split X and Y into training and testing set in 8:2\n",
        "#split_size = int(0.75*len(dataset))\n",
        "#X, X_test = X[:split_size].copy(), X[split_size:].copy()\n",
        "#Y, Y_test = Y[:split_size].copy(), Y[split_size:].copy()\n",
        "\n"
      ],
      "metadata": {
        "id": "Lmt7J4VMj4oI"
      },
      "execution_count": null,
      "outputs": []
    },
    {
      "cell_type": "code",
      "source": [
        "# Shape\n",
        "print(X.shape)\n",
        "print(Y.shape)"
      ],
      "metadata": {
        "colab": {
          "base_uri": "https://localhost:8080/"
        },
        "id": "lRTspapuLe1e",
        "outputId": "c0366f3a-9f79-45f5-a3e2-316bd85caf61"
      },
      "execution_count": null,
      "outputs": [
        {
          "output_type": "stream",
          "name": "stdout",
          "text": [
            "(510, 4)\n",
            "(510, 1)\n"
          ]
        }
      ]
    },
    {
      "cell_type": "code",
      "source": [
        "# Linear Regression - Matrix version\n",
        "# L = learning rate\n",
        "# n = interations\n",
        "def linear_regress(x,y,L,n):\n",
        "\n",
        "  w = np.zeros((x.shape[1],1)) # Initialize W to all zeros\n",
        "\n",
        "  cost_list=[]\n",
        "\n",
        "  for i in range(n):\n",
        "    y_pred = np.dot(x,w)\n",
        "    cost = (1/(2*len(y)))*(np.sum(np.square(y-y_pred)))\n",
        "    gd = 1/len(y) * np.dot(x.T,(y_pred-y))\n",
        "    w = w - L*gd\n",
        "\n",
        "    if i%100==0:\n",
        "      cost_list.append(cost)\n",
        "\n",
        "  return w, cost_list\n",
        "\n",
        "\n"
      ],
      "metadata": {
        "id": "F4MjyLSF8UQV"
      },
      "execution_count": null,
      "outputs": []
    },
    {
      "cell_type": "code",
      "source": [
        "y = np.random.randint(0,10,size=(10,1))\n",
        "print(y)\n",
        "len(y)"
      ],
      "metadata": {
        "colab": {
          "base_uri": "https://localhost:8080/",
          "height": 176
        },
        "id": "5Jrx-TT8TG8o",
        "outputId": "ec638ead-77b8-422c-eaa7-b19bbe4e3b38"
      },
      "execution_count": 1,
      "outputs": [
        {
          "output_type": "error",
          "ename": "NameError",
          "evalue": "name 'np' is not defined",
          "traceback": [
            "\u001b[0;31m---------------------------------------------------------------------------\u001b[0m",
            "\u001b[0;31mNameError\u001b[0m                                 Traceback (most recent call last)",
            "\u001b[0;32m<ipython-input-1-54cd57b4aec9>\u001b[0m in \u001b[0;36m<cell line: 1>\u001b[0;34m()\u001b[0m\n\u001b[0;32m----> 1\u001b[0;31m \u001b[0my\u001b[0m \u001b[0;34m=\u001b[0m \u001b[0mnp\u001b[0m\u001b[0;34m.\u001b[0m\u001b[0mrandom\u001b[0m\u001b[0;34m.\u001b[0m\u001b[0mrandint\u001b[0m\u001b[0;34m(\u001b[0m\u001b[0;36m0\u001b[0m\u001b[0;34m,\u001b[0m\u001b[0;36m10\u001b[0m\u001b[0;34m,\u001b[0m\u001b[0msize\u001b[0m\u001b[0;34m=\u001b[0m\u001b[0;34m(\u001b[0m\u001b[0;36m10\u001b[0m\u001b[0;34m,\u001b[0m\u001b[0;36m1\u001b[0m\u001b[0;34m)\u001b[0m\u001b[0;34m)\u001b[0m\u001b[0;34m\u001b[0m\u001b[0;34m\u001b[0m\u001b[0m\n\u001b[0m\u001b[1;32m      2\u001b[0m \u001b[0mprint\u001b[0m\u001b[0;34m(\u001b[0m\u001b[0my\u001b[0m\u001b[0;34m)\u001b[0m\u001b[0;34m\u001b[0m\u001b[0;34m\u001b[0m\u001b[0m\n\u001b[1;32m      3\u001b[0m \u001b[0mlen\u001b[0m\u001b[0;34m(\u001b[0m\u001b[0my\u001b[0m\u001b[0;34m)\u001b[0m\u001b[0;34m\u001b[0m\u001b[0;34m\u001b[0m\u001b[0m\n",
            "\u001b[0;31mNameError\u001b[0m: name 'np' is not defined"
          ]
        }
      ]
    },
    {
      "cell_type": "code",
      "source": [
        "w = np.random.randint(0,10,size=(X.shape[1],1))\n",
        "w[0] -= w[0]*2\n",
        "print(X[0])\n",
        "print(X[3][3])"
      ],
      "metadata": {
        "colab": {
          "base_uri": "https://localhost:8080/"
        },
        "id": "GhbjDRYKViNz",
        "outputId": "0bb632b6-cae6-4107-9765-cb968b6076d2"
      },
      "execution_count": 43,
      "outputs": [
        {
          "output_type": "stream",
          "name": "stdout",
          "text": [
            "[  1.   2.   4. 228.]\n",
            "380.0\n"
          ]
        }
      ]
    },
    {
      "cell_type": "code",
      "source": [
        "# Cost func\n",
        "# If we update w and put entire thing in loop we can get all MSE\n",
        "# Need G.D. for updated w\n",
        "\n",
        "def cost_func(x,y):  #for given thetas (w)\n",
        "  y_pred = np.random.randint(0,1,size=(len(y),1)) # Initialise column with 0s\n",
        "  w = np.random.randint(0,1,size=(x.shape[1],1)) # Initialise W for only 1st iteration (to chk)\n",
        "  MSE = 0\n",
        "  for i in range(len(y)):\n",
        "    y_pred[i] = np.dot(x[i],w) # Predict y for row i\n",
        "    MSE += np.square(y[i] - y_pred[i]) # MSE for row i\n",
        "  MSE = MSE/(2*len(y)) # MSE for all rows\n",
        "  return MSE\n",
        "\n",
        "cost_func(X,Y)"
      ],
      "metadata": {
        "colab": {
          "base_uri": "https://localhost:8080/"
        },
        "id": "zBamQBsATTFj",
        "outputId": "94d70e1f-693c-4cbd-ed80-64ec361f6e73"
      },
      "execution_count": null,
      "outputs": [
        {
          "output_type": "execute_result",
          "data": {
            "text/plain": [
              "array([110.43265686])"
            ]
          },
          "metadata": {},
          "execution_count": 24
        }
      ]
    },
    {
      "cell_type": "code",
      "source": [
        "# To chk cost\n",
        "w = np.zeros((X.shape[1],1)) # Initialize W to all zeros\n",
        "gd=[]; cost=0\n",
        "for i in range(1):\n",
        "  y_pred = np.dot(X,w)\n",
        "  cost = (1/(2*len(Y)))*(np.sum(np.square(Y-y_pred)))\n",
        "  gd = 1/len(Y) * np.dot(X.T,(y_pred-Y))\n",
        "  w = w - 0.00001*gd\n",
        "\n",
        "print(gd)\n",
        "print(\"---\")\n",
        "print(w)\n",
        "\n"
      ],
      "metadata": {
        "colab": {
          "base_uri": "https://localhost:8080/"
        },
        "id": "FB-FDn8hPp3w",
        "outputId": "b579140e-5da9-449f-fdd3-71a994f3d071"
      },
      "execution_count": null,
      "outputs": [
        {
          "output_type": "stream",
          "name": "stdout",
          "text": [
            "[[  -14.52254902]\n",
            " [  -49.81703922]\n",
            " [  -86.99960784]\n",
            " [-4449.9327451 ]]\n",
            "---\n",
            "[[0.00014523]\n",
            " [0.00049817]\n",
            " [0.00087   ]\n",
            " [0.04449933]]\n"
          ]
        }
      ]
    },
    {
      "cell_type": "code",
      "source": [
        "# Gradiant Descent\n",
        "\n",
        "W = np.random.randint(0,1,size=(X.shape[1],1)).astype(np.float64) # Initialise W to 0s\n",
        "\n",
        "def gradiant_descent(x,y,L,w):\n",
        "\n",
        "    #derivative of MSE function with each Xi\n",
        "    #update Xi = Xi - L*gd\n",
        "\n",
        "    #gd is when we update all values in w\n",
        "    #we do gd everytime for n iterations\n",
        "    #here only once is needed\n",
        "\n",
        "    w0=0;w1=0;w2=0;w3=0;\n",
        "    for i in range(len(y)):\n",
        "      w0 += -(2/len(y)) * (y - (w[0]*(x[i][0]) + w[1] + w[2] +w[3]))\n",
        "      w1 += -(2/len(y)) * (y - (w[0]*(x[i][1]) + w[1] + w[2] +w[3]))*x[i][1]\n",
        "      w2 += -(2/len(y)) * (y - (w[0]*(x[i][2]) + w[1] + w[2] +w[3]))*x[i][2]\n",
        "      w3 += -(2/len(y)) * (y - (w[0]*(x[i][3]) + w[1] + w[2] +w[3]))*x[i][3]\n",
        "\n",
        "    w[0]-= L*w0\n",
        "    w[1]-= L*w1\n",
        "    w[2]-= L*w2\n",
        "    w[3]-= L*w3\n",
        "\n",
        "    return w\n",
        "\n",
        "gradiant_descent(X,Y,0.00001,W)"
      ],
      "metadata": {
        "colab": {
          "base_uri": "https://localhost:8080/",
          "height": 297
        },
        "id": "IN3uFQsEZv6u",
        "outputId": "a10f3596-facd-42f1-8e18-d6df8d00fe60"
      },
      "execution_count": null,
      "outputs": [
        {
          "output_type": "error",
          "ename": "ValueError",
          "evalue": "cannot reshape array of size 510 into shape (1,)",
          "traceback": [
            "\u001b[0;31m---------------------------------------------------------------------------\u001b[0m",
            "\u001b[0;31mValueError\u001b[0m                                Traceback (most recent call last)",
            "\u001b[0;32m<ipython-input-40-f0341a32f02c>\u001b[0m in \u001b[0;36m<cell line: 28>\u001b[0;34m()\u001b[0m\n\u001b[1;32m     26\u001b[0m     \u001b[0;32mreturn\u001b[0m \u001b[0mw\u001b[0m\u001b[0;34m\u001b[0m\u001b[0;34m\u001b[0m\u001b[0m\n\u001b[1;32m     27\u001b[0m \u001b[0;34m\u001b[0m\u001b[0m\n\u001b[0;32m---> 28\u001b[0;31m \u001b[0mgradiant_descent\u001b[0m\u001b[0;34m(\u001b[0m\u001b[0mX\u001b[0m\u001b[0;34m,\u001b[0m\u001b[0mY\u001b[0m\u001b[0;34m,\u001b[0m\u001b[0;36m0.00001\u001b[0m\u001b[0;34m,\u001b[0m\u001b[0mW\u001b[0m\u001b[0;34m)\u001b[0m\u001b[0;34m\u001b[0m\u001b[0;34m\u001b[0m\u001b[0m\n\u001b[0m",
            "\u001b[0;32m<ipython-input-40-f0341a32f02c>\u001b[0m in \u001b[0;36mgradiant_descent\u001b[0;34m(x, y, L, w)\u001b[0m\n\u001b[1;32m     19\u001b[0m       \u001b[0mw3\u001b[0m \u001b[0;34m+=\u001b[0m \u001b[0;34m-\u001b[0m\u001b[0;34m(\u001b[0m\u001b[0;36m2\u001b[0m\u001b[0;34m/\u001b[0m\u001b[0mlen\u001b[0m\u001b[0;34m(\u001b[0m\u001b[0my\u001b[0m\u001b[0;34m)\u001b[0m\u001b[0;34m)\u001b[0m \u001b[0;34m*\u001b[0m \u001b[0;34m(\u001b[0m\u001b[0my\u001b[0m \u001b[0;34m-\u001b[0m \u001b[0;34m(\u001b[0m\u001b[0mw\u001b[0m\u001b[0;34m[\u001b[0m\u001b[0;36m0\u001b[0m\u001b[0;34m]\u001b[0m\u001b[0;34m*\u001b[0m\u001b[0;34m(\u001b[0m\u001b[0mx\u001b[0m\u001b[0;34m[\u001b[0m\u001b[0mi\u001b[0m\u001b[0;34m]\u001b[0m\u001b[0;34m[\u001b[0m\u001b[0;36m3\u001b[0m\u001b[0;34m]\u001b[0m\u001b[0;34m)\u001b[0m \u001b[0;34m+\u001b[0m \u001b[0mw\u001b[0m\u001b[0;34m[\u001b[0m\u001b[0;36m1\u001b[0m\u001b[0;34m]\u001b[0m \u001b[0;34m+\u001b[0m \u001b[0mw\u001b[0m\u001b[0;34m[\u001b[0m\u001b[0;36m2\u001b[0m\u001b[0;34m]\u001b[0m \u001b[0;34m+\u001b[0m\u001b[0mw\u001b[0m\u001b[0;34m[\u001b[0m\u001b[0;36m3\u001b[0m\u001b[0;34m]\u001b[0m\u001b[0;34m)\u001b[0m\u001b[0;34m)\u001b[0m\u001b[0;34m*\u001b[0m\u001b[0mx\u001b[0m\u001b[0;34m[\u001b[0m\u001b[0mi\u001b[0m\u001b[0;34m]\u001b[0m\u001b[0;34m[\u001b[0m\u001b[0;36m3\u001b[0m\u001b[0;34m]\u001b[0m\u001b[0;34m\u001b[0m\u001b[0;34m\u001b[0m\u001b[0m\n\u001b[1;32m     20\u001b[0m \u001b[0;34m\u001b[0m\u001b[0m\n\u001b[0;32m---> 21\u001b[0;31m     \u001b[0mw\u001b[0m\u001b[0;34m[\u001b[0m\u001b[0;36m0\u001b[0m\u001b[0;34m]\u001b[0m\u001b[0;34m-=\u001b[0m \u001b[0mL\u001b[0m\u001b[0;34m*\u001b[0m\u001b[0mw0\u001b[0m\u001b[0;34m.\u001b[0m\u001b[0mreshape\u001b[0m\u001b[0;34m(\u001b[0m\u001b[0mw\u001b[0m\u001b[0;34m[\u001b[0m\u001b[0;36m0\u001b[0m\u001b[0;34m]\u001b[0m\u001b[0;34m.\u001b[0m\u001b[0mshape\u001b[0m\u001b[0;34m)\u001b[0m\u001b[0;34m\u001b[0m\u001b[0;34m\u001b[0m\u001b[0m\n\u001b[0m\u001b[1;32m     22\u001b[0m     \u001b[0mw\u001b[0m\u001b[0;34m[\u001b[0m\u001b[0;36m1\u001b[0m\u001b[0;34m]\u001b[0m\u001b[0;34m-=\u001b[0m \u001b[0mL\u001b[0m\u001b[0;34m*\u001b[0m\u001b[0mw1\u001b[0m\u001b[0;34m.\u001b[0m\u001b[0mreshape\u001b[0m\u001b[0;34m(\u001b[0m\u001b[0mw\u001b[0m\u001b[0;34m[\u001b[0m\u001b[0;36m1\u001b[0m\u001b[0;34m]\u001b[0m\u001b[0;34m.\u001b[0m\u001b[0mshape\u001b[0m\u001b[0;34m)\u001b[0m\u001b[0;34m\u001b[0m\u001b[0;34m\u001b[0m\u001b[0m\n\u001b[1;32m     23\u001b[0m     \u001b[0mw\u001b[0m\u001b[0;34m[\u001b[0m\u001b[0;36m2\u001b[0m\u001b[0;34m]\u001b[0m\u001b[0;34m-=\u001b[0m \u001b[0mL\u001b[0m\u001b[0;34m*\u001b[0m\u001b[0mw2\u001b[0m\u001b[0;34m.\u001b[0m\u001b[0mreshape\u001b[0m\u001b[0;34m(\u001b[0m\u001b[0mw\u001b[0m\u001b[0;34m[\u001b[0m\u001b[0;36m2\u001b[0m\u001b[0;34m]\u001b[0m\u001b[0;34m.\u001b[0m\u001b[0mshape\u001b[0m\u001b[0;34m)\u001b[0m\u001b[0;34m\u001b[0m\u001b[0;34m\u001b[0m\u001b[0m\n",
            "\u001b[0;31mValueError\u001b[0m: cannot reshape array of size 510 into shape (1,)"
          ]
        }
      ]
    },
    {
      "cell_type": "code",
      "source": [
        "L = 0.00001\n",
        "n = 10\n",
        "w,cost_list = linear_regress(X,Y,L,n)\n",
        "print(w)\n",
        "print(cost_list)"
      ],
      "metadata": {
        "id": "X10RUu0I_43o",
        "colab": {
          "base_uri": "https://localhost:8080/"
        },
        "outputId": "15605308-bad0-490d-859e-39be216bfb3c"
      },
      "execution_count": null,
      "outputs": [
        {
          "output_type": "stream",
          "name": "stdout",
          "text": [
            "[[0.0001621 ]\n",
            " [0.00056277]\n",
            " [0.00098557]\n",
            " [0.04952055]]\n",
            "[110.43265686274509]\n"
          ]
        }
      ]
    }
  ]
}