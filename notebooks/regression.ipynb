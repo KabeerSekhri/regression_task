{
  "cells": [
    {
      "cell_type": "code",
      "execution_count": 3,
      "metadata": {
        "id": "vlCkJAuadlTa"
      },
      "outputs": [],
      "source": [
        "import numpy as np\n",
        "import pandas as pd\n"
      ]
    },
    {
      "cell_type": "code",
      "execution_count": 4,
      "metadata": {
        "colab": {
          "base_uri": "https://localhost:8080/",
          "height": 423
        },
        "id": "SDBeeH7EfOVn",
        "outputId": "3e9e914f-d50a-4785-de84-5fdcb587083e"
      },
      "outputs": [
        {
          "data": {
            "text/html": [
              "<div>\n",
              "<style scoped>\n",
              "    .dataframe tbody tr th:only-of-type {\n",
              "        vertical-align: middle;\n",
              "    }\n",
              "\n",
              "    .dataframe tbody tr th {\n",
              "        vertical-align: top;\n",
              "    }\n",
              "\n",
              "    .dataframe thead th {\n",
              "        text-align: right;\n",
              "    }\n",
              "</style>\n",
              "<table border=\"1\" class=\"dataframe\">\n",
              "  <thead>\n",
              "    <tr style=\"text-align: right;\">\n",
              "      <th></th>\n",
              "      <th>Year</th>\n",
              "      <th>MAKE</th>\n",
              "      <th>MODEL</th>\n",
              "      <th>VEHICLE CLASS</th>\n",
              "      <th>ENGINE SIZE</th>\n",
              "      <th>CYLINDERS</th>\n",
              "      <th>TRANSMISSION</th>\n",
              "      <th>FUEL</th>\n",
              "      <th>FUEL CONSUMPTION</th>\n",
              "      <th>COEMISSIONS</th>\n",
              "    </tr>\n",
              "  </thead>\n",
              "  <tbody>\n",
              "    <tr>\n",
              "      <th>0</th>\n",
              "      <td>2000</td>\n",
              "      <td>VOLKSWAGEN</td>\n",
              "      <td>GTI</td>\n",
              "      <td>COMPACT</td>\n",
              "      <td>2.0</td>\n",
              "      <td>4</td>\n",
              "      <td>M5</td>\n",
              "      <td>X</td>\n",
              "      <td>11.2</td>\n",
              "      <td>228</td>\n",
              "    </tr>\n",
              "    <tr>\n",
              "      <th>1</th>\n",
              "      <td>2000</td>\n",
              "      <td>DODGE</td>\n",
              "      <td>DAKOTA 4X4</td>\n",
              "      <td>PICKUP TRUCK - STANDARD</td>\n",
              "      <td>4.7</td>\n",
              "      <td>8</td>\n",
              "      <td>M5</td>\n",
              "      <td>X</td>\n",
              "      <td>18.8</td>\n",
              "      <td>382</td>\n",
              "    </tr>\n",
              "    <tr>\n",
              "      <th>2</th>\n",
              "      <td>2000</td>\n",
              "      <td>GMC</td>\n",
              "      <td>C1500 SIERRA</td>\n",
              "      <td>PICKUP TRUCK - STANDARD</td>\n",
              "      <td>4.8</td>\n",
              "      <td>8</td>\n",
              "      <td>M5</td>\n",
              "      <td>X</td>\n",
              "      <td>18.9</td>\n",
              "      <td>373</td>\n",
              "    </tr>\n",
              "    <tr>\n",
              "      <th>3</th>\n",
              "      <td>2000</td>\n",
              "      <td>FORD</td>\n",
              "      <td>F150 4X4</td>\n",
              "      <td>PICKUP TRUCK - STANDARD</td>\n",
              "      <td>4.6</td>\n",
              "      <td>8</td>\n",
              "      <td>A4</td>\n",
              "      <td>X</td>\n",
              "      <td>18.5</td>\n",
              "      <td>380</td>\n",
              "    </tr>\n",
              "    <tr>\n",
              "      <th>4</th>\n",
              "      <td>2000</td>\n",
              "      <td>FORD</td>\n",
              "      <td>F150 4X4</td>\n",
              "      <td>PICKUP TRUCK - STANDARD</td>\n",
              "      <td>4.2</td>\n",
              "      <td>6</td>\n",
              "      <td>A4</td>\n",
              "      <td>X</td>\n",
              "      <td>17.3</td>\n",
              "      <td>359</td>\n",
              "    </tr>\n",
              "    <tr>\n",
              "      <th>...</th>\n",
              "      <td>...</td>\n",
              "      <td>...</td>\n",
              "      <td>...</td>\n",
              "      <td>...</td>\n",
              "      <td>...</td>\n",
              "      <td>...</td>\n",
              "      <td>...</td>\n",
              "      <td>...</td>\n",
              "      <td>...</td>\n",
              "      <td>...</td>\n",
              "    </tr>\n",
              "    <tr>\n",
              "      <th>506</th>\n",
              "      <td>2000</td>\n",
              "      <td>CHEVROLET</td>\n",
              "      <td>ASTRO AWD CARGO</td>\n",
              "      <td>VAN - CARGO</td>\n",
              "      <td>4.3</td>\n",
              "      <td>6</td>\n",
              "      <td>A4</td>\n",
              "      <td>X</td>\n",
              "      <td>17.0</td>\n",
              "      <td>350</td>\n",
              "    </tr>\n",
              "    <tr>\n",
              "      <th>507</th>\n",
              "      <td>2000</td>\n",
              "      <td>CHEVROLET</td>\n",
              "      <td>K1500 SILVERADO 4X4</td>\n",
              "      <td>PICKUP TRUCK - STANDARD</td>\n",
              "      <td>4.3</td>\n",
              "      <td>6</td>\n",
              "      <td>M5</td>\n",
              "      <td>X</td>\n",
              "      <td>18.7</td>\n",
              "      <td>386</td>\n",
              "    </tr>\n",
              "    <tr>\n",
              "      <th>508</th>\n",
              "      <td>2000</td>\n",
              "      <td>FORD</td>\n",
              "      <td>TAURUS</td>\n",
              "      <td>MID-SIZE</td>\n",
              "      <td>3.0</td>\n",
              "      <td>6</td>\n",
              "      <td>A4</td>\n",
              "      <td>X</td>\n",
              "      <td>13.6</td>\n",
              "      <td>267</td>\n",
              "    </tr>\n",
              "    <tr>\n",
              "      <th>509</th>\n",
              "      <td>2000</td>\n",
              "      <td>MERCEDES-BENZ</td>\n",
              "      <td>SLK 230 KOMPRESSOR #</td>\n",
              "      <td>SUBCOMPACT</td>\n",
              "      <td>2.3</td>\n",
              "      <td>4</td>\n",
              "      <td>M5</td>\n",
              "      <td>Z</td>\n",
              "      <td>12.6</td>\n",
              "      <td>246</td>\n",
              "    </tr>\n",
              "    <tr>\n",
              "      <th>510</th>\n",
              "      <td>2000</td>\n",
              "      <td>CHEVROLET</td>\n",
              "      <td>G1500/G2500 CHEVY EXPRESS</td>\n",
              "      <td>VAN - PASSENGER</td>\n",
              "      <td>5.7</td>\n",
              "      <td>8</td>\n",
              "      <td>A4</td>\n",
              "      <td>X</td>\n",
              "      <td>20.6</td>\n",
              "      <td>426</td>\n",
              "    </tr>\n",
              "  </tbody>\n",
              "</table>\n",
              "<p>511 rows × 10 columns</p>\n",
              "</div>"
            ],
            "text/plain": [
              "     Year           MAKE                      MODEL            VEHICLE CLASS  \\\n",
              "0    2000     VOLKSWAGEN                        GTI                  COMPACT   \n",
              "1    2000          DODGE                 DAKOTA 4X4  PICKUP TRUCK - STANDARD   \n",
              "2    2000            GMC               C1500 SIERRA  PICKUP TRUCK - STANDARD   \n",
              "3    2000           FORD                   F150 4X4  PICKUP TRUCK - STANDARD   \n",
              "4    2000           FORD                   F150 4X4  PICKUP TRUCK - STANDARD   \n",
              "..    ...            ...                        ...                      ...   \n",
              "506  2000      CHEVROLET            ASTRO AWD CARGO              VAN - CARGO   \n",
              "507  2000      CHEVROLET        K1500 SILVERADO 4X4  PICKUP TRUCK - STANDARD   \n",
              "508  2000           FORD                     TAURUS                 MID-SIZE   \n",
              "509  2000  MERCEDES-BENZ       SLK 230 KOMPRESSOR #               SUBCOMPACT   \n",
              "510  2000      CHEVROLET  G1500/G2500 CHEVY EXPRESS          VAN - PASSENGER   \n",
              "\n",
              "     ENGINE SIZE  CYLINDERS TRANSMISSION FUEL  FUEL CONSUMPTION  COEMISSIONS  \n",
              "0            2.0          4           M5    X              11.2          228  \n",
              "1            4.7          8           M5    X              18.8          382  \n",
              "2            4.8          8           M5    X              18.9          373  \n",
              "3            4.6          8           A4    X              18.5          380  \n",
              "4            4.2          6           A4    X              17.3          359  \n",
              "..           ...        ...          ...  ...               ...          ...  \n",
              "506          4.3          6           A4    X              17.0          350  \n",
              "507          4.3          6           M5    X              18.7          386  \n",
              "508          3.0          6           A4    X              13.6          267  \n",
              "509          2.3          4           M5    Z              12.6          246  \n",
              "510          5.7          8           A4    X              20.6          426  \n",
              "\n",
              "[511 rows x 10 columns]"
            ]
          },
          "execution_count": 4,
          "metadata": {},
          "output_type": "execute_result"
        }
      ],
      "source": [
        "dataset = pd.read_csv(\"/Users/hemantsekhri/Documents/IML/fuel_train.csv\")\n",
        "dataset = pd.DataFrame(dataset)\n",
        "dataset"
      ]
    },
    {
      "cell_type": "code",
      "execution_count": 5,
      "metadata": {
        "colab": {
          "base_uri": "https://localhost:8080/"
        },
        "id": "fTk80KHhg-sw",
        "outputId": "be485f70-17fe-4443-9ff2-988deb56fee1"
      },
      "outputs": [
        {
          "data": {
            "text/plain": [
              "np.int64(1)"
            ]
          },
          "execution_count": 5,
          "metadata": {},
          "output_type": "execute_result"
        }
      ],
      "source": [
        "dataset.columns = dataset.columns.str.strip()  # Removes leading and trailing spaces\n",
        "dataset.isnull().sum() # Check for missing values\n",
        "dataset.duplicated().sum() # Check for duplicate values\n"
      ]
    },
    {
      "cell_type": "code",
      "execution_count": 6,
      "metadata": {
        "id": "HOo9c87Uqe9Y"
      },
      "outputs": [],
      "source": [
        "dataset.dropna(inplace=True)\n",
        "dataset.drop_duplicates(inplace=True)"
      ]
    },
    {
      "cell_type": "code",
      "execution_count": 7,
      "metadata": {
        "colab": {
          "base_uri": "https://localhost:8080/",
          "height": 418
        },
        "id": "WuX7u8h8m4gj",
        "outputId": "20c2dbc4-aa5c-4439-fabc-9e2997ee384c"
      },
      "outputs": [
        {
          "ename": "ModuleNotFoundError",
          "evalue": "No module named 'seaborn'",
          "output_type": "error",
          "traceback": [
            "\u001b[0;31m---------------------------------------------------------------------------\u001b[0m",
            "\u001b[0;31mModuleNotFoundError\u001b[0m                       Traceback (most recent call last)",
            "\u001b[1;32m/Users/hemantsekhri/Documents/IML/Kabeer_Sekhri_A1/regression_task/notebooks/regression.ipynb Cell 5\u001b[0m line \u001b[0;36m1\n\u001b[0;32m----> <a href='vscode-notebook-cell:/Users/hemantsekhri/Documents/IML/Kabeer_Sekhri_A1/regression_task/notebooks/regression.ipynb#W5sZmlsZQ%3D%3D?line=0'>1</a>\u001b[0m \u001b[39mimport\u001b[39;00m \u001b[39mseaborn\u001b[39;00m \u001b[39mas\u001b[39;00m \u001b[39msns\u001b[39;00m\n\u001b[1;32m      <a href='vscode-notebook-cell:/Users/hemantsekhri/Documents/IML/Kabeer_Sekhri_A1/regression_task/notebooks/regression.ipynb#W5sZmlsZQ%3D%3D?line=1'>2</a>\u001b[0m \u001b[39mimport\u001b[39;00m \u001b[39mmatplotlib\u001b[39;00m\u001b[39m.\u001b[39;00m\u001b[39mpyplot\u001b[39;00m \u001b[39mas\u001b[39;00m \u001b[39mplt\u001b[39;00m\n\u001b[1;32m      <a href='vscode-notebook-cell:/Users/hemantsekhri/Documents/IML/Kabeer_Sekhri_A1/regression_task/notebooks/regression.ipynb#W5sZmlsZQ%3D%3D?line=3'>4</a>\u001b[0m \u001b[39m# Assuming 'dataset' is a DataFrame with relevant columns\u001b[39;00m\n",
            "\u001b[0;31mModuleNotFoundError\u001b[0m: No module named 'seaborn'"
          ]
        }
      ],
      "source": [
        "import seaborn as sns\n",
        "import matplotlib.pyplot as plt\n",
        "\n",
        "# Assuming 'dataset' is a DataFrame with relevant columns\n",
        "X = dataset[['ENGINE SIZE', 'CYLINDERS', 'COEMISSIONS']]  # Features\n",
        "Y = dataset['FUEL CONSUMPTION']  # Target\n",
        "\n",
        "# Set the plot style\n",
        "sns.set(style=\"whitegrid\")\n",
        "\n",
        "# Create subplots for each feature vs FUEL CONSUMPTION\n",
        "fig, axs = plt.subplots(1, 3, figsize=(18, 5))\n",
        "\n",
        "# Scatter plot for ENGINE SIZE vs FUEL CONSUMPTION\n",
        "sns.scatterplot(x=X['ENGINE SIZE'], y=Y, ax=axs[0], color='blue')\n",
        "axs[0].set_xlabel('ENGINE SIZE')\n",
        "axs[0].set_ylabel('FUEL CONSUMPTION')\n",
        "axs[0].set_title('ENGINE SIZE vs FUEL CONSUMPTION')\n",
        "\n",
        "# Scatter plot for CYLINDERS vs FUEL CONSUMPTION\n",
        "sns.scatterplot(x=X['CYLINDERS'], y=Y, ax=axs[1], color='green')\n",
        "axs[1].set_xlabel('CYLINDERS')\n",
        "axs[1].set_ylabel('FUEL CONSUMPTION')\n",
        "axs[1].set_title('CYLINDERS vs FUEL CONSUMPTION')\n",
        "\n",
        "# Scatter plot for COEMISSIONS vs FUEL CONSUMPTION\n",
        "sns.scatterplot(x=X['COEMISSIONS'], y=Y, ax=axs[2], color='red')\n",
        "axs[2].set_xlabel('COEMISSIONS')\n",
        "axs[2].set_ylabel('FUEL CONSUMPTION')\n",
        "axs[2].set_title('COEMISSIONS vs FUEL CONSUMPTION')\n",
        "\n",
        "# Adjust layout for better spacing\n",
        "plt.tight_layout()\n",
        "\n",
        "# Show the plot\n",
        "plt.show()\n"
      ]
    },
    {
      "cell_type": "code",
      "execution_count": 11,
      "metadata": {
        "id": "dM8QUlOxfO8X"
      },
      "outputs": [],
      "source": [
        "# Split into X and Y\n",
        "X = dataset[['ENGINE SIZE','CYLINDERS','COEMISSIONS']] # Features (independent)\n",
        "Y = dataset['FUEL CONSUMPTION'].values.reshape(-1, 1) # Target (dependent)\n",
        "X = np.c_[np.ones(X.shape[0]), X] # Adding a column of 1s for constant in matrix multiplication\n"
      ]
    },
    {
      "cell_type": "code",
      "execution_count": null,
      "metadata": {
        "id": "Lmt7J4VMj4oI"
      },
      "outputs": [],
      "source": [
        "# Split X and Y into training and testing set in 8:2\n",
        "#split_size = int(0.75*len(dataset))\n",
        "#X, X_test = X[:split_size].copy(), X[split_size:].copy()\n",
        "#Y, Y_test = Y[:split_size].copy(), Y[split_size:].copy()\n",
        "\n"
      ]
    },
    {
      "cell_type": "code",
      "execution_count": null,
      "metadata": {
        "colab": {
          "base_uri": "https://localhost:8080/"
        },
        "id": "lRTspapuLe1e",
        "outputId": "c0366f3a-9f79-45f5-a3e2-316bd85caf61"
      },
      "outputs": [
        {
          "name": "stdout",
          "output_type": "stream",
          "text": [
            "(510, 4)\n",
            "(510, 1)\n"
          ]
        }
      ],
      "source": [
        "# Shape\n",
        "print(X.shape)\n",
        "print(Y.shape)"
      ]
    },
    {
      "cell_type": "code",
      "execution_count": null,
      "metadata": {
        "id": "F4MjyLSF8UQV"
      },
      "outputs": [],
      "source": [
        "# Linear Regression - Matrix version\n",
        "# L = learning rate\n",
        "# n = interations\n",
        "def linear_regress(x,y,L,n):\n",
        "\n",
        "  w = np.zeros((x.shape[1],1)) # Initialize W to all zeros\n",
        "\n",
        "  cost_list=[]\n",
        "\n",
        "  for i in range(n):\n",
        "    y_pred = np.dot(x,w)\n",
        "    cost = (1/(2*len(y)))*(np.sum(np.square(y-y_pred)))\n",
        "    gd = 1/len(y) * np.dot(x.T,(y_pred-y))\n",
        "    w = w - L*gd\n",
        "\n",
        "    if i%100==0:\n",
        "      cost_list.append(cost)\n",
        "\n",
        "  return w, cost_list\n",
        "\n",
        "\n"
      ]
    },
    {
      "cell_type": "code",
      "execution_count": 9,
      "metadata": {
        "colab": {
          "base_uri": "https://localhost:8080/",
          "height": 176
        },
        "id": "5Jrx-TT8TG8o",
        "outputId": "ec638ead-77b8-422c-eaa7-b19bbe4e3b38"
      },
      "outputs": [
        {
          "data": {
            "text/plain": [
              "10"
            ]
          },
          "execution_count": 9,
          "metadata": {},
          "output_type": "execute_result"
        }
      ],
      "source": [
        "y = np.random.randint(0,10,size=(10,1))\n",
        "len(y)"
      ]
    },
    {
      "cell_type": "code",
      "execution_count": null,
      "metadata": {
        "colab": {
          "base_uri": "https://localhost:8080/"
        },
        "id": "GhbjDRYKViNz",
        "outputId": "0bb632b6-cae6-4107-9765-cb968b6076d2"
      },
      "outputs": [
        {
          "name": "stdout",
          "output_type": "stream",
          "text": [
            "[  1.   2.   4. 228.]\n",
            "380.0\n"
          ]
        }
      ],
      "source": [
        "w = np.random.randint(0,10,size=(X.shape[1],1))\n",
        "w[0] -= w[0]*2\n",
        "print(X[0])\n",
        "print(X[3][3])"
      ]
    },
    {
      "cell_type": "code",
      "execution_count": null,
      "metadata": {
        "colab": {
          "base_uri": "https://localhost:8080/"
        },
        "id": "zBamQBsATTFj",
        "outputId": "94d70e1f-693c-4cbd-ed80-64ec361f6e73"
      },
      "outputs": [
        {
          "data": {
            "text/plain": [
              "array([110.43265686])"
            ]
          },
          "execution_count": 24,
          "metadata": {},
          "output_type": "execute_result"
        }
      ],
      "source": [
        "# Cost func\n",
        "# If we update w and put entire thing in loop we can get all MSE\n",
        "# Need G.D. for updated w\n",
        "\n",
        "def cost_func(x,y):  #for given thetas (w)\n",
        "  y_pred = np.random.randint(0,1,size=(len(y),1)) # Initialise column with 0s\n",
        "  w = np.random.randint(0,1,size=(x.shape[1],1)) # Initialise W for only 1st iteration (to chk)\n",
        "  MSE = 0\n",
        "  for i in range(len(y)):\n",
        "    y_pred[i] = np.dot(x[i],w) # Predict y for row i\n",
        "    MSE += np.square(y[i] - y_pred[i]) # MSE for row i\n",
        "  MSE = MSE/(2*len(y)) # MSE for all rows\n",
        "  return MSE\n",
        "\n",
        "cost_func(X,Y)"
      ]
    },
    {
      "cell_type": "code",
      "execution_count": null,
      "metadata": {
        "colab": {
          "base_uri": "https://localhost:8080/"
        },
        "id": "FB-FDn8hPp3w",
        "outputId": "b579140e-5da9-449f-fdd3-71a994f3d071"
      },
      "outputs": [
        {
          "name": "stdout",
          "output_type": "stream",
          "text": [
            "[[  -14.52254902]\n",
            " [  -49.81703922]\n",
            " [  -86.99960784]\n",
            " [-4449.9327451 ]]\n",
            "---\n",
            "[[0.00014523]\n",
            " [0.00049817]\n",
            " [0.00087   ]\n",
            " [0.04449933]]\n"
          ]
        }
      ],
      "source": [
        "# To chk cost\n",
        "w = np.zeros((X.shape[1],1)) # Initialize W to all zeros\n",
        "gd=[]; cost=0\n",
        "for i in range(1):\n",
        "  y_pred = np.dot(X,w)\n",
        "  cost = (1/(2*len(Y)))*(np.sum(np.square(Y-y_pred)))\n",
        "  gd = 1/len(Y) * np.dot(X.T,(y_pred-Y))\n",
        "  w = w - 0.00001*gd\n",
        "\n",
        "print(gd)\n",
        "print(\"---\")\n",
        "print(w)\n",
        "\n"
      ]
    },
    {
      "cell_type": "code",
      "execution_count": 15,
      "metadata": {
        "colab": {
          "base_uri": "https://localhost:8080/",
          "height": 297
        },
        "id": "IN3uFQsEZv6u",
        "outputId": "a10f3596-facd-42f1-8e18-d6df8d00fe60"
      },
      "outputs": [
        {
          "data": {
            "text/plain": [
              "array([[0.00014523],\n",
              "       [0.00049817],\n",
              "       [0.00087   ],\n",
              "       [0.04449933]])"
            ]
          },
          "execution_count": 15,
          "metadata": {},
          "output_type": "execute_result"
        }
      ],
      "source": [
        "# Gradiant Descent\n",
        "\n",
        "W = np.random.randint(0,1,size=(X.shape[1],1)).astype(np.float64) # Initialise W to 0s\n",
        "\n",
        "def gradiant_descent(x,y,L,w):\n",
        "\n",
        "    #derivative of MSE function with each Xi\n",
        "    #update Xi = Xi - L*gd\n",
        "\n",
        "    #gd is when we update all values in w\n",
        "    #we do gd everytime for n iterations\n",
        "    #here only once is needed\n",
        "\n",
        "    gd0=0;gd1=0;gd2=0;gd3=0\n",
        "    for i in range(len(y)):\n",
        "      gd0 += -(1/len(y)) * (y[i] - (w[0]*(x[i][0]) + w[1] + w[2] +w[3]))\n",
        "      gd1 += -(1/len(y)) * (y[i] - (w[0]*(x[i][1]) + w[1] + w[2] +w[3]))*x[i][1]\n",
        "      gd2 += -(1/len(y)) * (y[i] - (w[0]*(x[i][2]) + w[1] + w[2] +w[3]))*x[i][2]\n",
        "      gd3 += -(1/len(y)) * (y[i] - (w[0]*(x[i][3]) + w[1] + w[2] +w[3]))*x[i][3]\n",
        "\n",
        "    w[0]-= L*gd0\n",
        "    w[1]-= L*gd1\n",
        "    w[2]-= L*gd2\n",
        "    w[3]-= L*gd3\n",
        "\n",
        "    return w\n",
        "\n",
        "gradiant_descent(X,Y,0.00001,W)"
      ]
    },
    {
      "cell_type": "code",
      "execution_count": null,
      "metadata": {
        "colab": {
          "base_uri": "https://localhost:8080/"
        },
        "id": "X10RUu0I_43o",
        "outputId": "15605308-bad0-490d-859e-39be216bfb3c"
      },
      "outputs": [
        {
          "name": "stdout",
          "output_type": "stream",
          "text": [
            "[[0.0001621 ]\n",
            " [0.00056277]\n",
            " [0.00098557]\n",
            " [0.04952055]]\n",
            "[110.43265686274509]\n"
          ]
        }
      ],
      "source": [
        "L = 0.00001\n",
        "n = 10\n",
        "w,cost_list = linear_regress(X,Y,L,n)\n",
        "print(w)\n",
        "print(cost_list)"
      ]
    }
  ],
  "metadata": {
    "colab": {
      "provenance": []
    },
    "kernelspec": {
      "display_name": "Python 3",
      "name": "python3"
    },
    "language_info": {
      "codemirror_mode": {
        "name": "ipython",
        "version": 3
      },
      "file_extension": ".py",
      "mimetype": "text/x-python",
      "name": "python",
      "nbconvert_exporter": "python",
      "pygments_lexer": "ipython3",
      "version": "3.12.6"
    }
  },
  "nbformat": 4,
  "nbformat_minor": 0
}
